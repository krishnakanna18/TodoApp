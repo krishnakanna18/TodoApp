{
 "metadata": {
  "language_info": {
   "codemirror_mode": {
    "name": "ipython",
    "version": 3
   },
   "file_extension": ".py",
   "mimetype": "text/x-python",
   "name": "python",
   "nbconvert_exporter": "python",
   "pygments_lexer": "ipython3",
   "version": "3.8.10"
  },
  "orig_nbformat": 2,
  "kernelspec": {
   "name": "python3",
   "display_name": "Python 3.8.10  ('venv': venv)",
   "metadata": {
    "interpreter": {
     "hash": "7d396cd07dc93e728addf8c92bee92620dcfba53b721021d7035810837279b85"
    }
   }
  }
 },
 "nbformat": 4,
 "nbformat_minor": 2,
 "cells": [
  {
   "cell_type": "code",
   "execution_count": 72,
   "metadata": {
    "tags": []
   },
   "outputs": [
    {
     "output_type": "stream",
     "name": "stdout",
     "text": [
      "Topper in Maths is Manasa\n\nTopper in Biology is Sreeja\n\nTopper in English is Praneeta\n\nTopper in Physics is Sagar\n\nTopper in Chemistry is Manasa\n\nTopper in Hindi is Aravind\n\nBest students in the class are Manodhar, Bhavana, Sourav\n"
     ]
    }
   ],
   "source": [
    "'''\n",
    "Time complexity is O(n). n - number of students.\n",
    "Since the inner loop runs a constant number of times(6 in this case) everytime running time is 6*n which is O(n).\n",
    "\n",
    "Space complexity is O(n).\n",
    "Since the dictionary always consists of 6 items space complexity is n - dictionary to store the students.\n",
    "'''\n",
    "\n",
    "import csv\n",
    "import sys\n",
    "dictMax={'Maths':{'name':\"\",'mark':0},      #Stores the maximum in each subject\n",
    "            'Biology':{'name':\"\",'mark':0},\n",
    "            'English':{'name':\"\",'mark':0},\n",
    "            'Physics':{'name':\"\",'mark':0},\n",
    "            'Chemistry':{'name':\"\",'mark':0},\n",
    "            'Hindi':{'name':\"\",'mark':0}}\n",
    "\n",
    "first={'Name':\"\",\"total\":0}     # first>=second>=thrid\n",
    "second={'Name':\"\",\"total\":0}\n",
    "third={'Name':\"\",\"total\":0}\n",
    "with open(\"Student_marks_list.csv\") as csvfile:\n",
    "    for student in csv.DictReader(csvfile)  :        \n",
    "        for subject,topper in dictMax.items():\n",
    "            if(int(student[subject])>topper['mark']):               #If student's mark in subject is greater than topper mark then change topper\n",
    "                    dictMax[subject]['name']=student['Name']        \n",
    "                    dictMax[subject]['mark']=int(student[subject])\n",
    "        total=0\n",
    "        for key in student:\n",
    "            if(key!=\"Name\"):\n",
    "                total+=int(student[key])\n",
    "\n",
    "        if(total>=first['total']):              #total> first - third=second, second=first, first=student\n",
    "            third.update(second)\n",
    "            second.update(first)\n",
    "            first['Name'], first['total']=student['Name'],total\n",
    "\n",
    "        elif(total>=second['total']):           #total>second - third=second, second=student\n",
    "            third.update(second)\n",
    "            second['Name'], second['total']=student['Name'],total\n",
    "\n",
    "        elif(total>=third['total']):            #total>third - third=student\n",
    "            third['Name'], third['total']=student['Name'],total\n",
    "\n",
    "    for subject,topper in dictMax.items():\n",
    "        print(\"Topper in {0} is {1}\\n\".format(subject,topper['name']))\n",
    "\n",
    "    print(\"Best students in the class are {0}, {1}, {2}\".format(first['Name'],second['Name'],third['Name']))"
   ]
  },
  {
   "cell_type": "code",
   "execution_count": null,
   "metadata": {},
   "outputs": [],
   "source": []
  }
 ]
}